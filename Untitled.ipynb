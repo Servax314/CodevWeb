{
 "cells": [
  {
   "cell_type": "code",
   "execution_count": 4,
   "metadata": {},
   "outputs": [],
   "source": [
    "#import\n",
    "import pulp\n",
    "from pulp import *"
   ]
  },
  {
   "cell_type": "code",
   "execution_count": 3,
   "metadata": {},
   "outputs": [],
   "source": [
    "#Create variable\n",
    "x1=LpVariable('x1', lowBound=0, cat='Continuous')\n",
    "x2=LpVariable('x2', lowBound=0, cat='Continuous')"
   ]
  },
  {
   "cell_type": "code",
   "execution_count": 11,
   "metadata": {},
   "outputs": [],
   "source": [
    "#Create problem\n",
    "problem= LpProblem(\"problem\", LpMaximize)\n",
    "\n",
    "#implement problem\n",
    "problem += 3*x1 + 5*x2\n",
    "\n",
    "#Add contraints\n",
    "problem += x1<=4\n",
    "problem += x2<=6\n",
    "problem += 3*x1 + 2*x2 <= 18"
   ]
  },
  {
   "cell_type": "code",
   "execution_count": 12,
   "metadata": {},
   "outputs": [
    {
     "data": {
      "text/plain": [
       "1"
      ]
     },
     "execution_count": 12,
     "metadata": {},
     "output_type": "execute_result"
    }
   ],
   "source": [
    "#solve problem and print maximal values\n",
    "problem.solve()"
   ]
  },
  {
   "cell_type": "code",
   "execution_count": 13,
   "metadata": {},
   "outputs": [
    {
     "name": "stdout",
     "output_type": "stream",
     "text": [
      "Status :  Optimal\n"
     ]
    }
   ],
   "source": [
    "#print status\n",
    "print(\"Status : \", LpStatus[problem.status])"
   ]
  },
  {
   "cell_type": "code",
   "execution_count": 22,
   "metadata": {},
   "outputs": [
    {
     "name": "stdout",
     "output_type": "stream",
     "text": [
      "Status :  Optimal\n",
      "x1  =  2.0\n",
      "x2  =  6.0\n",
      "Objective value =  36.0\n"
     ]
    }
   ],
   "source": [
    "#print status\n",
    "print(\"Status : \", LpStatus[problem.status])\n",
    "\n",
    "#print x1 and x2\n",
    "for value in problem.variables():\n",
    "    print(value.name, \" = \",value.varValue)\n",
    "    \n",
    "#print Objective value\n",
    "print( \"Objective value = \",problem.objective.value())"
   ]
  },
  {
   "cell_type": "markdown",
   "metadata": {},
   "source": [
    "# Exercice 1"
   ]
  },
  {
   "cell_type": "code",
   "execution_count": 53,
   "metadata": {},
   "outputs": [],
   "source": [
    "#create set\n",
    "plants = ['1','2','3','4','5','6','7','8']\n",
    "clients = ['1','2','3','4','5','6','7','8','9','10']\n",
    "\n",
    "number_of_plants = 4\n",
    "\n",
    "\n",
    "#create dictionnary with the capacity of plants\n",
    "capacity_plants = {'1':200,'2':300,'3':150,'4':180,'5':280,'6':270,'7':200,'8':220}\n",
    "\n",
    "#create dictionnary with the demand\n",
    "demand_clients = {'1':80,'2':50,'3':82,'4':43,'5':96,'6':107,'7':88,'8':42,'9':65,'10':38}\n",
    "\n",
    "fixed_cost = {'1':684,'2':977,'3':563,'4':612,'5':950,'6':928,'7':750,'8':766}\n",
    "\n",
    "#create freight cost\n",
    "freight_cost = 90\n",
    "\n",
    "#create distance dictionnary\n",
    "distance = {('1','1'):18,('1','2'):14,('1','3'):12,('1','4'):16,('1','5'):19,('1','6'):17,('1','7'):14,('1','8'):18,('1','9'):11,('1','10'):13,\n",
    "           ('2','1'):12,('2','2'):15,('2','3'):17,('2','4'):19,('2','5'):13,('2','6'):10,('2','7'):15,('2','8'):14,('2','9'):16,('2','10'):14,\n",
    "           ('3','1'):11,('3','2'):12,('3','3'):12,('3','4'):20,('3','5'):19,('3','6'):20,('3','7'):12,('3','8'):15,('3','9'):13,('3','10'):16,\n",
    "           ('4','1'):11,('4','2'):18,('4','3'):10,('4','4'):10,('4','5'):11,('4','6'):15,('4','7'):13,('4','8'):15,('4','9'):10,('4','10'):15,\n",
    "           ('5','1'):10,('5','2'):14,('5','3'):20,('5','4'):10,('5','5'):10,('5','6'):16,('5','7'):18,('5','8'):16,('5','9'):15,('5','10'):15,\n",
    "           ('6','1'):12,('6','2'):14,('6','3'):20,('6','4'):14,('6','5'):15,('6','6'):10,('6','7'):12,('6','8'):15,('6','9'):17,('6','10'):13,\n",
    "           ('7','1'):13,('7','2'):17,('7','3'):19,('7','4'):15,('7','5'):12,('7','6'):12,('7','7'):12,('7','8'):14,('7','9'):20,('7','10'):14,\n",
    "           ('8','1'):11,('8','2'):10,('8','3'):12,('8','4'):18,('8','5'):18,('8','6'):17,('8','7'):19,('8','8'):20,('8','9'):15,('8','10'):10,\n",
    "           }\n",
    "\n",
    "#create transport cots dictionnary\n",
    "transport_cost = {}\n",
    "for key in distance:\n",
    "    transport_cost[key]=distance[key]*freight_cost"
   ]
  },
  {
   "cell_type": "code",
   "execution_count": 54,
   "metadata": {},
   "outputs": [],
   "source": [
    "#create decision variables\n",
    "x_variable = LpVariable.dicts('x',(plants,clients),0)\n",
    "\n",
    "selected_plants = LpVariable.dicts('y',plants,0,cat='Binary')\n",
    "\n",
    "#create the problem\n",
    "problem2 = LpProblem(\"problem2\", LpMinimize)\n",
    "\n",
    "#add the objective function\n",
    "problem2 += lpSum(transport_cost[key]*x_variable[key[0]][key[1]] for key in distance) + lpSum(fixed_cost[plant]*selected_plants[plant] for plant in plants)"
   ]
  },
  {
   "cell_type": "code",
   "execution_count": 55,
   "metadata": {},
   "outputs": [],
   "source": [
    "#add constraint\n",
    "\n",
    "resol={}\n",
    "for plant in plants:\n",
    "    resol[plant]=selected_plants[plant]*capacity_plants[plant]\n",
    "\n",
    "problem2 += lpSum(selected_plants[plant] for plant in selected_plants) == number_of_plants\n",
    "\n",
    "for plant in plants:\n",
    "    for client in clients:\n",
    "        problem2 += x_variable[plant][client] <= resol[plant]\n",
    "\n",
    "for plant in plants:\n",
    "    problem2 += lpSum(x_variable[plant][client] for client in clients) <= capacity_plants[plant]\n",
    "    \n",
    "for client in clients:\n",
    "    problem2 += lpSum(x_variable[plant][client] for plant in plants) >= demand_clients[client]"
   ]
  },
  {
   "cell_type": "code",
   "execution_count": 56,
   "metadata": {},
   "outputs": [
    {
     "data": {
      "text/plain": [
       "1"
      ]
     },
     "execution_count": 56,
     "metadata": {},
     "output_type": "execute_result"
    }
   ],
   "source": [
    "#solve the problem\n",
    "problem2.solve()"
   ]
  },
  {
   "cell_type": "code",
   "execution_count": 57,
   "metadata": {},
   "outputs": [
    {
     "name": "stdout",
     "output_type": "stream",
     "text": [
      "Status :  Optimal\n",
      "x_1_1  =  0.0\n",
      "x_1_10  =  0.0\n",
      "x_1_2  =  0.0\n",
      "x_1_3  =  0.0\n",
      "x_1_4  =  0.0\n",
      "x_1_5  =  0.0\n",
      "x_1_6  =  0.0\n",
      "x_1_7  =  0.0\n",
      "x_1_8  =  0.0\n",
      "x_1_9  =  0.0\n",
      "x_2_1  =  0.0\n",
      "x_2_10  =  0.0\n",
      "x_2_2  =  0.0\n",
      "x_2_3  =  0.0\n",
      "x_2_4  =  0.0\n",
      "x_2_5  =  0.0\n",
      "x_2_6  =  0.0\n",
      "x_2_7  =  0.0\n",
      "x_2_8  =  0.0\n",
      "x_2_9  =  0.0\n",
      "x_3_1  =  0.0\n",
      "x_3_10  =  0.0\n",
      "x_3_2  =  0.0\n",
      "x_3_3  =  0.0\n",
      "x_3_4  =  0.0\n",
      "x_3_5  =  0.0\n",
      "x_3_6  =  0.0\n",
      "x_3_7  =  0.0\n",
      "x_3_8  =  0.0\n",
      "x_3_9  =  0.0\n",
      "x_4_1  =  0.0\n",
      "x_4_10  =  0.0\n",
      "x_4_2  =  0.0\n",
      "x_4_3  =  82.0\n",
      "x_4_4  =  0.0\n",
      "x_4_5  =  0.0\n",
      "x_4_6  =  0.0\n",
      "x_4_7  =  0.0\n",
      "x_4_8  =  0.0\n",
      "x_4_9  =  65.0\n",
      "x_5_1  =  80.0\n",
      "x_5_10  =  0.0\n",
      "x_5_2  =  0.0\n",
      "x_5_3  =  0.0\n",
      "x_5_4  =  43.0\n",
      "x_5_5  =  96.0\n",
      "x_5_6  =  0.0\n",
      "x_5_7  =  0.0\n",
      "x_5_8  =  0.0\n",
      "x_5_9  =  0.0\n",
      "x_6_1  =  0.0\n",
      "x_6_10  =  0.0\n",
      "x_6_2  =  0.0\n",
      "x_6_3  =  0.0\n",
      "x_6_4  =  0.0\n",
      "x_6_5  =  0.0\n",
      "x_6_6  =  107.0\n",
      "x_6_7  =  88.0\n",
      "x_6_8  =  42.0\n",
      "x_6_9  =  0.0\n",
      "x_7_1  =  0.0\n",
      "x_7_10  =  0.0\n",
      "x_7_2  =  0.0\n",
      "x_7_3  =  0.0\n",
      "x_7_4  =  0.0\n",
      "x_7_5  =  0.0\n",
      "x_7_6  =  0.0\n",
      "x_7_7  =  0.0\n",
      "x_7_8  =  0.0\n",
      "x_7_9  =  0.0\n",
      "x_8_1  =  0.0\n",
      "x_8_10  =  38.0\n",
      "x_8_2  =  50.0\n",
      "x_8_3  =  0.0\n",
      "x_8_4  =  0.0\n",
      "x_8_5  =  0.0\n",
      "x_8_6  =  0.0\n",
      "x_8_7  =  0.0\n",
      "x_8_8  =  0.0\n",
      "x_8_9  =  0.0\n",
      "y_1  =  0.0\n",
      "y_2  =  0.0\n",
      "y_3  =  0.0\n",
      "y_4  =  1.0\n",
      "y_5  =  1.0\n",
      "y_6  =  1.0\n",
      "y_7  =  0.0\n",
      "y_8  =  1.0\n",
      "Objective value =  659896.0\n"
     ]
    }
   ],
   "source": [
    "#print status\n",
    "print(\"Status : \", LpStatus[problem2.status])\n",
    "\n",
    "#print x1 and x2\n",
    "for value in problem2.variables():\n",
    "    print(value.name, \" = \",value.varValue)\n",
    "    \n",
    "#print Objective value\n",
    "print( \"Objective value = \",problem2.objective.value())"
   ]
  },
  {
   "cell_type": "markdown",
   "metadata": {},
   "source": [
    "# Exercice 2"
   ]
  },
  {
   "cell_type": "code",
   "execution_count": 17,
   "metadata": {},
   "outputs": [],
   "source": [
    "#define the caracteristics of the cargoes\n",
    "cargos = {'C1','C2','C3','C4'}\n",
    "\n",
    "cargo_weight = {'C1':18,'C2':15,'C3':23,'C4':12}\n",
    "cargo_volume = {'C1':480,'C2':650,'C3':580,'C4':390}\n",
    "cargo_profit = {'C1':310,'C2':380,'C3':350,'C4':285}\n",
    "\n",
    "cargo_plane = {'front':{'weight':10,'volume':6800},'centre':{'weight':16,'volume':8700},'rear':{'weight':8,'volume':5300}}"
   ]
  },
  {
   "cell_type": "code",
   "execution_count": 18,
   "metadata": {},
   "outputs": [],
   "source": [
    "#create variable\n",
    "x_var = LpVariable.dicts('x',(cargos,cargo_plane),0,cat='Integer')\n",
    "\n",
    "#create problem\n",
    "problem3 = LpProblem('prolem3',LpMaximize)\n",
    "\n",
    "#add objective function\n",
    "problem3 += lpSum((cargo_profit[cargo]*x_var[cargo][key] for cargo in cargos) for key in cargo_plane)"
   ]
  },
  {
   "cell_type": "code",
   "execution_count": 19,
   "metadata": {},
   "outputs": [],
   "source": [
    "#add constraints\n",
    "for key in cargo_plane:\n",
    "    problem3 += lpSum(x_var[cargo][key] for cargo in cargos) <= cargo_plane[key]['weight']\n",
    "\n",
    "for key in cargo_plane:\n",
    "    problem3 += lpSum(x_var[cargo][key]*cargo_volume[cargo] for cargo in cargos) <= cargo_plane[key]['volume']\n",
    "    \n",
    "problem3 += cargo_plane['front']['weight']*lpSum(x_var[cargo]['centre'] for cargo in cargos) == cargo_plane['centre']['weight']*lpSum(x_var[cargo]['front'] for cargo in cargos)\n",
    "\n",
    "problem3 += cargo_plane['rear']['weight']*lpSum(x_var[cargo]['centre'] for cargo in cargos) == cargo_plane['centre']['weight']*lpSum(x_var[cargo]['rear'] for cargo in cargos)"
   ]
  },
  {
   "cell_type": "code",
   "execution_count": 20,
   "metadata": {},
   "outputs": [
    {
     "data": {
      "text/plain": [
       "1"
      ]
     },
     "execution_count": 20,
     "metadata": {},
     "output_type": "execute_result"
    }
   ],
   "source": [
    "#solve the problem\n",
    "problem3.solve()"
   ]
  },
  {
   "cell_type": "code",
   "execution_count": 21,
   "metadata": {},
   "outputs": [
    {
     "name": "stdout",
     "output_type": "stream",
     "text": [
      "Status :  Optimal\n",
      "x_C1_centre  =  0.0\n",
      "x_C1_front  =  0.0\n",
      "x_C1_rear  =  0.0\n",
      "x_C2_centre  =  8.0\n",
      "x_C2_front  =  10.0\n",
      "x_C2_rear  =  8.0\n",
      "x_C3_centre  =  2.0\n",
      "x_C3_front  =  0.0\n",
      "x_C3_rear  =  0.0\n",
      "x_C4_centre  =  6.0\n",
      "x_C4_front  =  0.0\n",
      "x_C4_rear  =  0.0\n",
      "Objective value =  12290.0\n"
     ]
    }
   ],
   "source": [
    "#print status\n",
    "print(\"Status : \", LpStatus[problem3.status])\n",
    "\n",
    "#print x1 and x2\n",
    "for value in problem3.variables():\n",
    "    print(value.name, \" = \",value.varValue)\n",
    "    \n",
    "#print Objective value\n",
    "print( \"Objective value = \",problem3.objective.value())"
   ]
  },
  {
   "cell_type": "code",
   "execution_count": null,
   "metadata": {},
   "outputs": [],
   "source": []
  }
 ],
 "metadata": {
  "kernelspec": {
   "display_name": "Python 3",
   "language": "python",
   "name": "python3"
  },
  "language_info": {
   "codemirror_mode": {
    "name": "ipython",
    "version": 3
   },
   "file_extension": ".py",
   "mimetype": "text/x-python",
   "name": "python",
   "nbconvert_exporter": "python",
   "pygments_lexer": "ipython3",
   "version": "3.6.9"
  }
 },
 "nbformat": 4,
 "nbformat_minor": 4
}
