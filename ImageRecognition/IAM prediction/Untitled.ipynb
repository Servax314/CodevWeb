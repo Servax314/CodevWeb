{
 "cells": [
  {
   "cell_type": "markdown",
   "metadata": {},
   "source": [
    "# Import the packages"
   ]
  },
  {
   "cell_type": "code",
   "execution_count": 32,
   "metadata": {},
   "outputs": [],
   "source": [
    "import numpy as np\n",
    "import cv2\n",
    "import random\n",
    "import matplotlib.pyplot as plt\n",
    "import PIL\n",
    "from PIL import Image\n",
    "import tensorflow as tf\n",
    "import sklearn\n",
    "from sklearn.preprocessing import StandardScaler"
   ]
  },
  {
   "cell_type": "markdown",
   "metadata": {},
   "source": [
    "# Plot a sample of data"
   ]
  },
  {
   "cell_type": "code",
   "execution_count": 10,
   "metadata": {},
   "outputs": [
    {
     "data": {
      "image/png": "[encoded data removed]",
      "text/plain": [
       "<Figure size 432x288 with 1 Axes>"
      ]
     },
     "metadata": {
      "needs_background": "light"
     },
     "output_type": "display_data"
    },
    {
     "name": "stdout",
     "output_type": "stream",
     "text": [
      "(50, 70)\n"
     ]
    }
   ],
   "source": [
    "path = 'data/words/a01/a01-000u/a01-000u-00-03.png'\n",
    "\n",
    "img = Image.open(path)\n",
    "npimg = np.array(img)\n",
    "\n",
    "plt.imshow(npimg, cmap='gray')\n",
    "plt.show()\n",
    "\n",
    "print(npimg.shape)"
   ]
  },
  {
   "cell_type": "markdown",
   "metadata": {},
   "source": [
    "# Preprocessing"
   ]
  },
  {
   "cell_type": "code",
   "execution_count": 35,
   "metadata": {},
   "outputs": [],
   "source": [
    "def preprocess(img, imgSize, dataAugmentation=False):\n",
    "    \n",
    "    #img --> numpy array representing the image you aim preprocessed\n",
    "    #imgSize --> [_,_] list of length 2, representing the size of the output img\n",
    "    #dataAugmentation --> rezise the input img\n",
    "    \n",
    "    \n",
    "    \n",
    "    # Prevent the damaged files in the dataset, return black image instead\n",
    "    \n",
    "    if img is None:\n",
    "        img = np.zeros([imgSize[1], imgSize[0]])\n",
    "\n",
    "    # increase dataset size by applying random stretches to the images\n",
    "    \n",
    "    if dataAugmentation:\n",
    "        stretch = (random.random() - 0.5) # -0.5 .. +0.5\n",
    "        wStretched = max(int(img.shape[1] * (1 + stretch)), 1) # random width, but at least 1\n",
    "        img = cv2.resize(img, (wStretched, img.shape[0])) # stretch horizontally by factor 0.5 .. 1.5\n",
    "\n",
    "    # create target image and copy sample image into it\n",
    "    \n",
    "    (wt, ht) = imgSize\n",
    "    (h, w) = img.shape\n",
    "    fx = w / wt\n",
    "    fy = h / ht\n",
    "    f = max(fx, fy)\n",
    "    newSize = (max(min(wt, int(w / f)), 1), max(min(ht, int(h / f)), 1)) # scale according to f (result at least 1 and at most wt or ht)\n",
    "    img = cv2.resize(img, newSize)\n",
    "    target = np.ones([ht, wt]) * 255\n",
    "    target[0:newSize[1], 0:newSize[0]] = img\n",
    "\n",
    "    # transpose for TF\n",
    "    \n",
    "    img = cv2.transpose(target)\n",
    "\n",
    "    # normalize using sklearn.preprocessing package\n",
    "    \n",
    "    #scaler = StandardScaler()\n",
    "    #img = scaler.fit_transform(img)\n",
    "    \n",
    "    #normalize\n",
    "    \n",
    "    (m, s) = cv2.meanStdDev(img)\n",
    "    m = m[0][0]\n",
    "    s = s[0][0]\n",
    "    img = img - m\n",
    "    img = img / s if s>0 else img\n",
    "    return img\n",
    "\n",
    "    #the output is a numpy array representing the image, the image has been rescaled without modifying the proportions, transpose and normalize for training the model"
   ]
  },
  {
   "cell_type": "code",
   "execution_count": 36,
   "metadata": {},
   "outputs": [
    {
     "data": {
      "image/png": "[encoded data removed]",
      "text/plain": [
       "<Figure size 432x288 with 1 Axes>"
      ]
     },
     "metadata": {
      "needs_background": "light"
     },
     "output_type": "display_data"
    },
    {
     "name": "stdout",
     "output_type": "stream",
     "text": [
      "[[0.39183215 0.39183215 0.39183215 ... 0.39183215 0.39183215 0.39183215]\n",
      " [0.39183215 0.39183215 0.39183215 ... 0.39183215 0.39183215 0.39183215]\n",
      " [0.39183215 0.39183215 0.39183215 ... 0.39183215 0.39183215 0.39183215]\n",
      " ...\n",
      " [0.39183215 0.39183215 0.39183215 ... 0.39183215 0.39183215 0.39183215]\n",
      " [0.39183215 0.39183215 0.39183215 ... 0.39183215 0.39183215 0.39183215]\n",
      " [0.39183215 0.39183215 0.39183215 ... 0.39183215 0.39183215 0.39183215]]\n",
      "(128, 32)\n"
     ]
    }
   ],
   "source": [
    "path = 'data/words/a01/a01-000u/a01-000u-00-03.png'\n",
    "\n",
    "img = np.array(Image.open(path))\n",
    "\n",
    "img2 = preprocess(img, [128,32])\n",
    "\n",
    "plt.imshow(img2, cmap = \"gray\")\n",
    "plt.show()\n",
    "\n",
    "print(img2)\n",
    "\n",
    "print(img2.shape)"
   ]
  },
  {
   "cell_type": "markdown",
   "metadata": {},
   "source": [
    "# Create the model"
   ]
  },
  {
   "cell_type": "code",
   "execution_count": null,
   "metadata": {},
   "outputs": [],
   "source": [
    "class CustomModel(tf.keras.Model):\n",
    "    \n",
    "    def __init__(self):\n",
    "        super(CustomModel, self).__init__()\n",
    "        \n",
    "        #Insert Convolution layers\n",
    "        \n",
    "        self.convolution1 = tf.keras.layers.Conv2D(_,_, activation = 'relu', name = \"convolution1\" )\n",
    "        self.convolution2 = tf.keras.layers.Conv2D(_,_, activation = 'relu', name = \"convolution2\" )\n",
    "        self.convolution3 = tf.keras.layers.Conv2D(_,_, activation = 'relu', name = \"convolution3\" )\n",
    "        self.convolution4 = tf.keras.layers.Conv2D(_,_, activation = 'relu', name = \"convolution4\" )\n",
    "        self.convolution5 = tf.keras.layers.Conv2D(_,_, activation = 'relu', name = \"convolution5\" )\n",
    "        \n",
    "        #Insert LSTM (RNN) layers\n",
    "        \n",
    "        self.rnn_layer1 = tf.keras.layers.LSTM(_, return_sequences = True, stateful = True, name = 'rnn_layer1')\n",
    "        self.rnn_layer2 = tf.keras.layers.LSTM(_, return_sequences = True, stateful = True, name = 'rnn_layer2') \n",
    "    \n",
    "    \n",
    "    def call(self,image)"
   ]
  }
 ],
 "metadata": {
  "kernelspec": {
   "display_name": "Python 3",
   "language": "python",
   "name": "python3"
  },
  "language_info": {
   "codemirror_mode": {
    "name": "ipython",
    "version": 3
   },
   "file_extension": ".py",
   "mimetype": "text/x-python",
   "name": "python",
   "nbconvert_exporter": "python",
   "pygments_lexer": "ipython3",
   "version": "3.6.9"
  }
 },
 "nbformat": 4,
 "nbformat_minor": 4
}
