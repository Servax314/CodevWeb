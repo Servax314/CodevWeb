{
 "cells": [
  {
   "cell_type": "markdown",
   "metadata": {},
   "source": [
    "# Telecommunication Network Optimization"
   ]
  },
  {
   "cell_type": "code",
   "execution_count": 1,
   "metadata": {},
   "outputs": [],
   "source": [
    "#Import packages and data\n",
    "\n",
    "import openpyxl\n",
    "import pulp\n",
    "from pulp import *\n",
    "\n",
    "path = \"InputDataTelecomSmallInstance.xlsx\"\n",
    "\n",
    "wb = openpyxl.load_workbook(path)\n",
    "sheets = wb.sheetnames"
   ]
  },
  {
   "cell_type": "code",
   "execution_count": 2,
   "metadata": {},
   "outputs": [],
   "source": [
    "#Define the set of parameters\n",
    "\n",
    "C = wb[sheets[0]]\n",
    "number_of_customers = C['A1'].value\n",
    "Customers = range(1,number_of_customers+1)\n",
    "\n",
    "M = wb[sheets[1]]\n",
    "end_offices = M['A1'].value\n",
    "End_offices = range(1,end_offices+1)\n",
    "\n",
    "A = wb[sheets[2]]\n",
    "alpha = A['A1'].value\n",
    "\n",
    "N = wb[sheets[3]]\n",
    "number_of_hub = N['A1'].value\n",
    "Hubs = range(1,number_of_hub+1)\n",
    "\n",
    "CustToTargetAllocCost = wb[sheets[4]]\n",
    "h_index = {}\n",
    "for customer in Customers:\n",
    "    for office in End_offices:\n",
    "        h_index[(customer,office)] = CustToTargetAllocCost.cell(row=customer,column=office).value\n",
    "\n",
    "TargetToSteinerAllocCost = wb[sheets[5]]\n",
    "c_index = {}\n",
    "for office in End_offices:\n",
    "    for hub in Hubs:\n",
    "        c_index[(office,hub)] = TargetToSteinerAllocCost.cell(row=office,column=hub).value\n",
    "\n",
    "SteinerToSteinerConnctCost = wb[sheets[6]]\n",
    "g_index = {}\n",
    "for hub1 in Hubs:\n",
    "    for hub2 in Hubs:\n",
    "        g_index[(hub1,hub2)] = SteinerToSteinerConnctCost.cell(row=hub1,column=hub2).value\n",
    "\n",
    "SteinerFixedCost = wb[sheets[7]]\n",
    "fixed_coast = {}\n",
    "for hub in Hubs:\n",
    "    fixed_coast[hub] = SteinerFixedCost.cell(row=hub,column=1).value\n",
    "\n",
    "TargetCapicity = wb[sheets[8]]\n",
    "u_index = {}\n",
    "for office in End_offices:\n",
    "    u_index[office] = TargetCapicity.cell(row=office,column=1).value\n",
    "\n",
    "SteinerCapacity = wb[sheets[9]]\n",
    "v_index = {}\n",
    "for hub in Hubs:\n",
    "    v_index[hub] = SteinerCapacity.cell(row=hub,column=1).value"
   ]
  },
  {
   "cell_type": "code",
   "execution_count": 31,
   "metadata": {},
   "outputs": [
    {
     "name": "stdout",
     "output_type": "stream",
     "text": [
      "{1: 6, 2: 5, 3: 7, 4: 6, 5: 5, 6: 6}\n"
     ]
    }
   ],
   "source": [
    "print(v_index)"
   ]
  },
  {
   "cell_type": "code",
   "execution_count": 14,
   "metadata": {},
   "outputs": [],
   "source": [
    "#Create decision variables\n",
    "X_var= LpVariable.dicts('X',(Customers,End_offices),0,cat='Binary')\n",
    "\n",
    "Y_var = LpVariable.dicts('Y',(End_offices,Hubs),0,cat='Binary')\n",
    "\n",
    "Z_var = LpVariable.dicts('Z',(Hubs,Hubs),0,cat='Binary')\n",
    "\n",
    "L_var = LpVariable.dicts('L',Hubs,0,cat='Binary')\n",
    "\n",
    "W_var = LpVariable.dicts('W',(Customers,End_offices,Hubs),0,cat='Binary')\n",
    "\n",
    "#Create the problem\n",
    "problem = LpProblem(\"problem\", LpMinimize)\n",
    "\n",
    "#add the objective function\n",
    "problem += lpSum(h_index[key]*X_var[key[0]][key[1]] for key in h_index)+lpSum(c_index[key]*X_var[key[0]][key[1]] for key in c_index)+lpSum(fixed_coast[hub]*L_var[hub] for hub in Hubs)+lpSum(g_index[key]*Z_var[key[0]][key[1]] for key in g_index)"
   ]
  },
  {
   "cell_type": "code",
   "execution_count": 15,
   "metadata": {},
   "outputs": [],
   "source": [
    "def part_list(l):\n",
    "    sequence = []\n",
    "    i, imax = 0, 2**len(l)-1\n",
    "    while i <= imax:\n",
    "        s = []\n",
    "        j, jmax = 0, len(l)-1\n",
    "        while j <= jmax:\n",
    "            if (i>>j)&1 == 1:\n",
    "                s.append(l[j])\n",
    "            j += 1\n",
    "        sequence.append(s)\n",
    "        i += 1\n",
    "    return sequence\n",
    "\n",
    "def substract(A,B):\n",
    "    #A - B\n",
    "    l = []\n",
    "    assert len(A)>=len(B)\n",
    "    for i in A:\n",
    "        if i not in B:\n",
    "            l.append(i)\n",
    "    return l"
   ]
  },
  {
   "cell_type": "code",
   "execution_count": 47,
   "metadata": {},
   "outputs": [],
   "source": [
    "def dot(l1,l2):\n",
    "    d=[]\n",
    "    for i in l1:\n",
    "        for j in l2:\n",
    "            d.append((i,j))\n",
    "    return d"
   ]
  },
  {
   "cell_type": "code",
   "execution_count": 49,
   "metadata": {},
   "outputs": [],
   "source": [
    "#Add constraints\n",
    "\n",
    "#Constraint 1\n",
    "for customer in Customers:\n",
    "    problem += lpSum(X_var[customer][office] for office in End_offices) <= 1\n",
    "    \n",
    "#Constraint 2\n",
    "for office in End_offices:\n",
    "    problem += lpSum(Y_var[office][hub] for hub in Hubs) == 1\n",
    "    \n",
    "#Constraint 3\n",
    "for hub in Hubs:\n",
    "    for office in End_offices:\n",
    "        problem += Y_var[office][hub] <= L_var[hub]\n",
    "        \n",
    "#Constraint 4\n",
    "for hub1 in Hubs:\n",
    "    problem += lpSum(Z_var[hub2][hub1] for hub2 in Hubs) + lpSum(Z_var[hub1][hub2] for hub2 in Hubs) == 2*L_var[hub1]\n",
    "\n",
    "#Constraint 5\n",
    "Hub_part = part_list(Hubs)\n",
    "for part in Hub_part:\n",
    "    if (len(part)>=3) and (len(part)<=lpSum(L_var[hub] for hub in part) - 1):\n",
    "        for l in part:\n",
    "            sp_part = substract(part,[l])\n",
    "            for t in substract(Hubs,part):\n",
    "                problem += lpSum(Z_var[key0][key1] for key0,key1 in dot(part,part)) <= lpSum(L_var[hub] for hub in sp_part) + 1 - L_var[t]\n",
    "            \n",
    "\n",
    "#Constraint 6\n",
    "for office in End_offices:\n",
    "    problem += lpSum(X_var[customer][office] for customer in Customers) <= u_index[office]\n",
    "\n",
    "#Constraint 7\n",
    "for hub in Hubs:\n",
    "    problem += lpSum(W_var[key[0]][key[1]][hub] for key in h_index) <= v_index[hub]\n",
    "    for customer in Customers:\n",
    "        for office in End_offices:\n",
    "            problem += W_var[customer][office][hub] <= X_var[customer][office]\n",
    "            problem += W_var[customer][office][hub] <= Y_var[office][hub]\n",
    "            problem += W_var[customer][office][hub] >= X_var[customer][office] + Y_var[office][hub] -1\n",
    "    \n",
    "#Constraint 8\n",
    "problem += lpSum(L_var[hub] for hub in Hubs) >= 3\n",
    "\n",
    "#Constraint 9\n",
    "problem += lpSum(X_var[key[0]][key[1]] for key in h_index)/number_of_customers >= alpha"
   ]
  },
  {
   "cell_type": "code",
   "execution_count": 50,
   "metadata": {},
   "outputs": [
    {
     "data": {
      "text/plain": [
       "-1"
      ]
     },
     "execution_count": 50,
     "metadata": {},
     "output_type": "execute_result"
    }
   ],
   "source": [
    "#solve the problem\n",
    "problem.solve()"
   ]
  },
  {
   "cell_type": "code",
   "execution_count": 51,
   "metadata": {},
   "outputs": [
    {
     "name": "stdout",
     "output_type": "stream",
     "text": [
      "Status :  Infeasible\n",
      "Objective value =  6531871452.0\n"
     ]
    }
   ],
   "source": [
    "#print status\n",
    "print(\"Status : \", LpStatus[problem.status])\n",
    "\n",
    "#print var\n",
    "#for value in problem.variables():\n",
    "#    print(value.name, \" = \",value.varValue)\n",
    "    \n",
    "#print Objective value\n",
    "print( \"Objective value = \",problem.objective.value())"
   ]
  }
 ],
 "metadata": {
  "kernelspec": {
   "display_name": "Python 3",
   "language": "python",
   "name": "python3"
  },
  "language_info": {
   "codemirror_mode": {
    "name": "ipython",
    "version": 3
   },
   "file_extension": ".py",
   "mimetype": "text/x-python",
   "name": "python",
   "nbconvert_exporter": "python",
   "pygments_lexer": "ipython3",
   "version": "3.6.9"
  }
 },
 "nbformat": 4,
 "nbformat_minor": 4
}
